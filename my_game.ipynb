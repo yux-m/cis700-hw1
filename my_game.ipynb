{
 "cells": [
  {
   "cell_type": "markdown",
   "metadata": {},
   "source": [
    "# Homework 1"
   ]
  },
  {
   "cell_type": "markdown",
   "metadata": {},
   "source": [
    "## Shackles of the Sea: The Pirate's Hold"
   ]
  },
  {
   "cell_type": "markdown",
   "metadata": {},
   "source": [
    "Here's a map of the ship.\n",
    "\n",
    "![image.png](https://res.cloudinary.com/dvidz8bwi/image/upload/v1706668686/CIS700/700hw1_tmer6i.png)"
   ]
  },
  {
   "cell_type": "markdown",
   "metadata": {},
   "source": [
    "### Import Text Adventures"
   ]
  },
  {
   "cell_type": "code",
   "execution_count": 188,
   "metadata": {},
   "outputs": [],
   "source": [
    "from text_adventure_games import (\n",
    "    games, parsing, actions, things, blocks, viz\n",
    ")"
   ]
  },
  {
   "cell_type": "markdown",
   "metadata": {},
   "source": [
    "## Locations"
   ]
  },
  {
   "cell_type": "code",
   "execution_count": 189,
   "metadata": {},
   "outputs": [],
   "source": [
    "\n",
    "hold = things.Location(\n",
    "    \"Cargo Hold\",\n",
    "    \"You are in the cargo Hold. It's a dimly lit, cramped space, filled with the creaking sounds of the ship and the musty smell of seawater mixed with aged wood. Shadows cast by flickering lanterns dance over stacks of crates, barrels, and a haphazard assortment of goods seized by the pirates. The air is heavy with the scent of brine and the faint trace of old spices.\\n\"\n",
    ")\n",
    "deck = things.Location(\n",
    "    \"Main Deck\",\n",
    "    \"You are on the main deck. The deck is a spacious, open area bathed in moonlight, offering a panoramic view of the endless sea. The salty sea breeze whispers through the sails, and the stars above provide a faint, serene light. The wooden floorboards groan underfoot, echoing the rhythmic waves. It's a gateway to all the ship's key areas.\\n\",\n",
    ")\n",
    "quarter = things.Location(\n",
    "    \"Pirates’ Quarters\",\n",
    "    \"You are in a disorderly, cramped room filled with rows of rough-hewn bunks. The air is thick with the odor of rum, sweat, and the remnants of cheap tobacco. Scraps of old maps, empty bottles, and tattered clothes litter the floor. It's a chaotic jumble of pirate life, replete with secrets and potential disguises.\\n\"\n",
    ")\n",
    "cabin = things.Location(\n",
    "    \"Captain’s Cabin\",\n",
    "    \"You are in a luxury room. Lavishly furnished with exotic carpets and dark, polished wood. The walls are adorned with maps and the spoils of piracy. A large desk, cluttered with papers and trinkets, dominates the room. The ever-present risk of encountering the captain adds a palpable tension to the air, a contrast to the cabin's luxury.\\n\",\n",
    ")\n",
    "guarded_entrance = things.Location(\n",
    "    \"Guarded Entrance\",\n",
    "    \"You can see the main entrance of the ship, constantly guarded by stern-looking pirates. Torches on either side cast a flickering light, creating an intimidating barrier to freedom.\\n\"\n",
    ")\n",
    "exit = things.Location(\n",
    "    \"Locked Exit\",\n",
    "    \"You are looking at a heavy door, an alternative exit unguarded, but secured with a sturdy lock.\\n\",\n",
    ")\n",
    "outside = things.Location(\n",
    "    \"Outside\",\n",
    "    \"You are outside the ship. The sea is calm, and the moonlight casts a serene glow over the water.\\n\"\n",
    ")\n",
    "outside.set_property(\"winning\", True)\n",
    "\n",
    "\n",
    "# Map of Locations\n",
    "hold.add_connection(\"up\", deck)\n",
    "deck.add_connection(\"east\", quarter)\n",
    "deck.add_connection(\"west\", cabin)\n",
    "deck.add_connection(\"north\", guarded_entrance)\n",
    "deck.add_connection(\"south\", exit)\n",
    "guarded_entrance.add_connection(\"out\", outside)\n",
    "exit.add_connection(\"out\", outside)\n",
    "\n"
   ]
  },
  {
   "cell_type": "markdown",
   "metadata": {},
   "source": [
    "## Items"
   ]
  },
  {
   "cell_type": "markdown",
   "metadata": {},
   "source": [
    "### Gettable Items"
   ]
  },
  {
   "cell_type": "code",
   "execution_count": 190,
   "metadata": {},
   "outputs": [],
   "source": [
    "nail = things.Item(\n",
    "    \"nail\",\n",
    "    \"a rusty nail\",\n",
    "    \"A SLIGHTLY BENT NAIL WITH A SHARP POINT AND A RUSTED SURFACE.\",\n",
    ")\n",
    "# hold.add_item(nail)\n",
    "nail.set_property(\"is_takeable\", True)\n",
    "# nail.set_property(\"is_sharp\", True)\n",
    "\n",
    "clothes = things.Item(\n",
    "    \"clothes\",\n",
    "    \"pirate clothes\",\n",
    "    \"ROUGH, WEATHERED GARMENTS TYPICAL OF A PIRATE, ESSENTIAL FOR BLENDING IN UNNOTICED.\",\n",
    ")\n",
    "quarter.add_item(clothes)\n",
    "clothes.set_property(\"is_takeable\", True)\n",
    "clothes.add_command_hint(\"put on\")\n",
    "\n",
    "key = things.Item(\n",
    "    \"key\",\n",
    "    \"a brass key\",\n",
    "    \"AN ORNATE, BRASS KEY WITH INTRICATE ENGRAVINGS.\",\n",
    ")\n",
    "cabin.add_item(key)\n",
    "key.set_property(\"is_takeable\", True)\n"
   ]
  },
  {
   "cell_type": "markdown",
   "metadata": {},
   "source": [
    "### Scenery Items\n",
    "\n",
    "_We called these \"non-gettable\" in the tutorial_"
   ]
  },
  {
   "cell_type": "code",
   "execution_count": 191,
   "metadata": {},
   "outputs": [],
   "source": [
    "# Places to search:\n",
    "# Broken Furniture: A collection of damaged chairs, splintered tables, and other discarded furniture pieces. Amidst the debris, there might be useful items like the Rusty Nail.\n",
    "# Boxes and Chests: A variety of wooden boxes and old chests.\n",
    "# Discarded Personal Belongings: A heap of personal effects left behind by previous captives or careless pirates.\n",
    "\n",
    "boxes = things.Item(\n",
    "    \"boxes\",\n",
    "    \"wooden boxes\",\n",
    "    \"A VARIETY OF WOODEN BOXES AND OLD CHESTS.\",\n",
    ")\n",
    "boxes.set_property(\"is_takeable\", False)\n",
    "boxes.set_property(\"is_searchable\", True)\n",
    "boxes.set_property(\"contains_nail\", False)\n",
    "boxes.add_command_hint(\"search boxes\")\n",
    "hold.add_item(boxes)\n",
    "\n",
    "furniture = things.Item(\n",
    "    \"furniture\",\n",
    "    \"broken furniture\",\n",
    "    \"A COLLECTION OF DAMAGED CHAIRS, SPLINTERED TABLES, AND OTHER DISCARDED FURNITURE PIECES.\",\n",
    ")\n",
    "furniture.set_property(\"is_takeable\", False)\n",
    "furniture.set_property(\"is_searchable\", True)\n",
    "furniture.set_property(\"contains_nail\", True)\n",
    "furniture.add_command_hint(\"search furniture\")\n",
    "hold.add_item(furniture)\n",
    "\n",
    "belongings = things.Item(\n",
    "    \"belongings\",\n",
    "    \"discarded personal belongings\",\n",
    "    \"A HEAP OF PERSONAL EFFECTS LEFT BEHIND BY PREVIOUS CAPTIVES OR CARELESS PIRATES.\",\n",
    ")\n",
    "belongings.set_property(\"is_takeable\", False)\n",
    "belongings.set_property(\"is_searchable\", True)\n",
    "belongings.set_property(\"contains_nail\", False)\n",
    "belongings.add_command_hint(\"search belongings\")\n",
    "hold.add_item(belongings)\n",
    "\n",
    "door = things.Item(\n",
    "    \"door\",\n",
    "    \"a heavy door\",\n",
    "    \"A HEAVY DOOR, AN ALTERNATIVE EXIT.\",\n",
    ")\n",
    "door.set_property(\"is_takeable\", False)\n",
    "door.set_property(\"is_locked\", True)\n",
    "door.add_command_hint(\"unlock door\")\n",
    "door.add_command_hint(\"out\")\n",
    "exit.add_item(door)\n",
    "\n",
    "entrance = things.Item(\n",
    "    \"entrance\",\n",
    "    \"the main entrance\",\n",
    "    \"THE MAIN ENTRANCE OF THE SHIP.\",\n",
    ")\n",
    "entrance.set_property(\"is_takeable\", False)\n",
    "entrance.set_property(\"is_guarded\", True)\n",
    "entrance.add_command_hint(\"out\")\n",
    "guarded_entrance.add_item(entrance)"
   ]
  },
  {
   "cell_type": "markdown",
   "metadata": {},
   "source": [
    "## Characters"
   ]
  },
  {
   "cell_type": "markdown",
   "metadata": {},
   "source": [
    "### Player"
   ]
  },
  {
   "cell_type": "code",
   "execution_count": 192,
   "metadata": {},
   "outputs": [],
   "source": [
    "# Player\n",
    "player = things.Character(\n",
    "    name=\"You\",\n",
    "    description=\"You can't remember your identity, but that's not the most urgent thing at the moment.\",\n",
    "    persona=\"I am on an escape.\",\n",
    ")\n",
    "player.set_property(\"is_tied\", True)\n",
    "player.set_property(\"is_disguised\", False)"
   ]
  },
  {
   "cell_type": "markdown",
   "metadata": {},
   "source": [
    "### Non-Player Characters (NPCs)"
   ]
  },
  {
   "cell_type": "code",
   "execution_count": null,
   "metadata": {},
   "outputs": [],
   "source": []
  },
  {
   "cell_type": "markdown",
   "metadata": {},
   "source": [
    "## Actions"
   ]
  },
  {
   "cell_type": "markdown",
   "metadata": {},
   "source": [
    "- Unlock_Door\n",
    "- Search\n",
    "- Untie\n",
    "- Disguise"
   ]
  },
  {
   "cell_type": "code",
   "execution_count": 193,
   "metadata": {},
   "outputs": [],
   "source": [
    "class Unlock_Door(actions.Action):\n",
    "    ACTION_NAME = \"unlock door\"\n",
    "    ACTION_DESCRIPTION = \"Unlock a door with a key\"\n",
    "    ACTION_ALIASES = ['open door', 'use key']\n",
    "    \n",
    "    def __init__(self, game, command):\n",
    "        super().__init__(game)\n",
    "        # TODO - your code here\n",
    "        self.character = player\n",
    "        self.key = self.parser.match_item('key', self.parser.get_items_in_scope(self.character))\n",
    "        self.door = self.parser.match_item('door', self.parser.get_items_in_scope(self.character))\n",
    "\n",
    "    def check_preconditions(self) -> bool:\n",
    "        \"\"\"\n",
    "        Preconditions:\n",
    "        * There must be a door\n",
    "        * The character must be at the same location as the door\n",
    "        * The door must be locked\n",
    "        * The character must have the key in their inventory\n",
    "        \"\"\"\n",
    "        # TODO - your code here\n",
    "        if not self.was_matched(self.key):\n",
    "            description = \"The key couldn't be found.\"\n",
    "            self.parser.fail(description)\n",
    "            return False\n",
    "        if not self.was_matched(self.door):\n",
    "            description = \"The door couldn't be found.\"\n",
    "            self.parser.fail(description)\n",
    "            return False\n",
    "        if not self.character.location.here(self.door):\n",
    "            description = \"The character must be at the same location as the door.\"\n",
    "            self.parser.fail(description)\n",
    "            return False\n",
    "        if not self.door.get_property(\"is_locked\"):\n",
    "            description = \"The door is not locked.\"\n",
    "            self.parser.fail(description)\n",
    "            return False\n",
    "        if not self.character.is_in_inventory(self.key):\n",
    "            description = \"You don't have the key.\"\n",
    "            self.parser.fail(description)\n",
    "            return False\n",
    "        return True\n",
    "\n",
    "    def apply_effects(self):\n",
    "        \"\"\"\n",
    "        Effects:\n",
    "        * Unlocks the door\n",
    "        \"\"\"\n",
    "        # TODO - your code here\n",
    "        self.door.set_property(\"is_locked\", False)\n",
    "        self.parser.ok(\"You opened the door with the key.\\n\")"
   ]
  },
  {
   "cell_type": "code",
   "execution_count": 194,
   "metadata": {},
   "outputs": [],
   "source": [
    "class Search(actions.Action):\n",
    "    ACTION_NAME = \"search\"\n",
    "    ACTION_DESCRIPTION = \"Search the place\"\n",
    "    ACTION_ALIASES = []\n",
    "\n",
    "    def __init__(self, game, command):\n",
    "        super().__init__(game)\n",
    "        self.character = player\n",
    "        self.place = self.parser.match_item(command, self.parser.get_items_in_scope(self.character))\n",
    "        \n",
    "\n",
    "    def check_preconditions(self) -> bool:\n",
    "        if not self.was_matched(self.place):\n",
    "            description = \"There's no such place to search.\"\n",
    "            self.parser.fail(description)\n",
    "            return False\n",
    "        if not self.place.get_property(\"is_searchable\"):\n",
    "            description = \"You can't search this place.\"\n",
    "            self.parser.fail(description)\n",
    "            return False\n",
    "        return True\n",
    "\n",
    "    def apply_effects(self):\n",
    "        if self.place.get_property(\"contains_nail\"):\n",
    "            self.parser.ok(\"You searched the {place}.\\nYou found a nail.\\n\".format(place=self.place.name))\n",
    "            self.place.set_property(\"contains_nail\", False)\n",
    "            player.add_to_inventory(nail)\n",
    "        else:\n",
    "            self.parser.ok(\"You searched the {place}.\\nYou found nothing.\\n\".format(place=self.place.name))\n"
   ]
  },
  {
   "cell_type": "code",
   "execution_count": 195,
   "metadata": {},
   "outputs": [],
   "source": [
    "class Untie(actions.Action):\n",
    "    ACTION_NAME = \"untie\"\n",
    "    ACTION_DESCRIPTION = \"Untie yourself\"\n",
    "    ACTION_ALIASES = ['cut rope', 'free']\n",
    "\n",
    "    def __init__(self, game, command):\n",
    "        super().__init__(game)\n",
    "        self.character = player\n",
    "        self.nail = nail\n",
    "        \n",
    "\n",
    "    def check_preconditions(self) -> bool:\n",
    "        if not self.was_matched(self.nail):\n",
    "            description = \"You tried to untie yourself but failed. You need a sharp thing to do this.\\n\"\n",
    "            self.parser.fail(description)\n",
    "            return False\n",
    "        if not self.character.is_in_inventory(self.nail):\n",
    "            description = \"You tried to untie yourself but failed. You need a sharp thing to do this.\\n\"\n",
    "            self.parser.fail(description)\n",
    "            return False\n",
    "        return True\n",
    "\n",
    "    def apply_effects(self):\n",
    "        self.character.set_property(\"is_tied\", False)\n",
    "        self.parser.ok(\"You untied yourself with the nail. You are free now.\\n\")\n"
   ]
  },
  {
   "cell_type": "code",
   "execution_count": 196,
   "metadata": {},
   "outputs": [],
   "source": [
    "class Disguise(actions.Action):\n",
    "    ACTION_NAME = \"put on\"\n",
    "    ACTION_DESCRIPTION = \"Disguise yourself\"\n",
    "    ACTION_ALIASES = ['wear', 'put on', 'disguise']\n",
    "\n",
    "    def __init__(self, game, command):\n",
    "        super().__init__(game)\n",
    "        self.character = player\n",
    "        self.clothes = self.parser.match_item('clothes', self.parser.get_items_in_scope(self.character))\n",
    "        \n",
    "\n",
    "    def check_preconditions(self) -> bool:\n",
    "        if not self.was_matched(self.clothes):\n",
    "            description = \"There's nothing to disguise yourself with.\\n\"\n",
    "            self.parser.fail(description)\n",
    "            return False\n",
    "        return True\n",
    "\n",
    "    def apply_effects(self):\n",
    "        self.character.add_to_inventory(clothes)\n",
    "        self.character.set_property(\"is_disguised\", True)\n",
    "        self.parser.ok(\"You disguised yourself with the clothes you found. You look just like a pirate now.\\n\")\n"
   ]
  },
  {
   "cell_type": "markdown",
   "metadata": {},
   "source": [
    "## Blocks\n"
   ]
  },
  {
   "cell_type": "code",
   "execution_count": 197,
   "metadata": {},
   "outputs": [],
   "source": [
    "class Tie_Block(blocks.Block):\n",
    "\n",
    "    def __init__(self, location: things.Location):\n",
    "        super().__init__(\n",
    "            \"Your bindings prevent you from taking the stairs\", \"You tried to go upstairs, but fell down. Your bindings prevent you from taking the stairs.\\nMaybe try untie yourself first.\\n\"\n",
    "        )\n",
    "        self.location = location\n",
    "\n",
    "    def is_blocked(self) -> bool:\n",
    "        if player.get_property(\"is_tied\"):\n",
    "            return True\n",
    "        return False\n"
   ]
  },
  {
   "cell_type": "code",
   "execution_count": 198,
   "metadata": {},
   "outputs": [],
   "source": [
    "class Guard_Block(blocks.Block):\n",
    "\n",
    "    def __init__(self, location: things.Location):\n",
    "        super().__init__(\n",
    "            \"A guard is around the entrance\", \"The guard sees you and yells for help. They found you!\\nYou are captured by the pirates again.\\n\\nYOU LOST!\"\n",
    "        )\n",
    "        self.location = location\n",
    "\n",
    "    def is_blocked(self) -> bool:\n",
    "        if player.get_property(\"is_disguised\"):\n",
    "            return False\n",
    "        player.set_property(\"is_dead\", True)\n",
    "        return True"
   ]
  },
  {
   "cell_type": "code",
   "execution_count": 199,
   "metadata": {},
   "outputs": [],
   "source": [
    "class Door_Block(blocks.Block):\n",
    "\n",
    "    def __init__(self, location: things.Location, door: things.Item):\n",
    "        super().__init__(\"A locked door blocks your way\", \"The door ahead is locked.\\n\")\n",
    "        self.location = location\n",
    "        self.door = door\n",
    "\n",
    "    def is_blocked(self) -> bool:\n",
    "        if self.door.get_property(\"is_locked\"):\n",
    "            return True\n",
    "        return False"
   ]
  },
  {
   "cell_type": "code",
   "execution_count": 200,
   "metadata": {},
   "outputs": [],
   "source": [
    "import random\n",
    "\n",
    "class Captain_Block(blocks.Block):\n",
    "\n",
    "    def __init__(self, location: things.Location):\n",
    "        super().__init__(\"You don't know if the captain is in his cabin...\", \"The captain is in their cabin. They spot you!\\nYou are captured by the pirates again.\\n\\nYOU LOST!\")\n",
    "        self.location = location\n",
    "\n",
    "    def is_blocked(self) -> bool:\n",
    "        captain_is_in = random.choice([True, False])\n",
    "        if captain_is_in:\n",
    "            player.set_property(\"is_dead\", True)\n",
    "            return True\n",
    "        return False"
   ]
  },
  {
   "cell_type": "code",
   "execution_count": 201,
   "metadata": {},
   "outputs": [],
   "source": [
    "hold.add_block(\"up\", Tie_Block(hold))\n",
    "guarded_entrance.add_block(\"out\", Guard_Block(guarded_entrance))\n",
    "exit.add_block(\"out\", Door_Block(exit, door))\n",
    "deck.add_block(\"west\", Captain_Block(cabin))"
   ]
  },
  {
   "cell_type": "markdown",
   "metadata": {},
   "source": [
    "## Play Action Castle"
   ]
  },
  {
   "cell_type": "code",
   "execution_count": 202,
   "metadata": {},
   "outputs": [],
   "source": [
    "class ActionCastle(games.Game):\n",
    "    def __init__(\n",
    "        self, start_at: things.Location, player: things.Character, characters=None,\n",
    "        custom_actions=None\n",
    "    ):\n",
    "        super().__init__(start_at, player, characters=characters, custom_actions=custom_actions)\n",
    "\n",
    "    def is_won(self) -> bool:\n",
    "        if self.player.location.get_property(\"winning\"):\n",
    "            self.parser.ok(\"You are free!\")\n",
    "            return True\n",
    "        return False"
   ]
  },
  {
   "cell_type": "code",
   "execution_count": 203,
   "metadata": {},
   "outputs": [],
   "source": [
    "\n",
    "characters = []\n",
    "custom_actions = [Unlock_Door, Search, Untie, Disguise]\n",
    "\n",
    "# The Game\n",
    "game = ActionCastle(hold, player, characters=characters, custom_actions=custom_actions)\n"
   ]
  },
  {
   "cell_type": "code",
   "execution_count": 204,
   "metadata": {},
   "outputs": [
    {
     "name": "stdout",
     "output_type": "stream",
     "text": [
      "You are kidnapped by a group of pirates. Escape the ship!\n",
      "\n",
      "You are in the cargo Hold. It's a dimly lit, cramped space, filled with the\n",
      "creaking sounds of the ship and the musty smell of seawater mixed with aged\n",
      "wood. Shadows cast by flickering lanterns dance over stacks of crates, barrels,\n",
      "and a haphazard assortment of goods seized by the pirates. The air is heavy with\n",
      "the scent of brine and the faint trace of old spices.\n",
      "\n",
      "Exits:\n",
      "Up to Main Deck\n",
      "\n",
      "You see:\n",
      " * wooden boxes\n",
      "        search boxes\n",
      " * broken furniture\n",
      "        search furniture\n",
      " * discarded personal belongings\n",
      "        search belongings\n",
      "\n",
      "\n",
      "You searched the furniture.\n",
      "You found a nail.\n",
      "\n",
      "You untied yourself with the nail. You are free now.\n",
      "\n",
      "You are on the main deck. The deck is a spacious, open area bathed in moonlight,\n",
      "offering a panoramic view of the endless sea. The salty sea breeze whispers\n",
      "through the sails, and the stars above provide a faint, serene light. The wooden\n",
      "floorboards groan underfoot, echoing the rhythmic waves. It's a gateway to all\n",
      "the ship's key areas.\n",
      "\n",
      "Exits:\n",
      "Down to Cargo Hold\n",
      "East to Pirates’ Quarters\n",
      "West to Captain’s Cabin\n",
      "North to Guarded Entrance\n",
      "South to Locked Exit\n",
      "\n",
      "\n",
      "\n",
      "\n",
      "You can see the main entrance of the ship, constantly guarded by stern-looking\n",
      "pirates. Torches on either side cast a flickering light, creating an\n",
      "intimidating barrier to freedom.\n",
      "\n",
      "Exits:\n",
      "South to Main Deck\n",
      "Out to Outside\n",
      "\n",
      "You see:\n",
      " * the main entrance\n",
      "        out\n",
      "\n",
      "\n",
      "You are on the main deck. The deck is a spacious, open area bathed in moonlight,\n",
      "offering a panoramic view of the endless sea. The salty sea breeze whispers\n",
      "through the sails, and the stars above provide a faint, serene light. The wooden\n",
      "floorboards groan underfoot, echoing the rhythmic waves. It's a gateway to all\n",
      "the ship's key areas.\n",
      "\n",
      "Exits:\n",
      "Down to Cargo Hold\n",
      "East to Pirates’ Quarters\n",
      "West to Captain’s Cabin\n",
      "North to Guarded Entrance\n",
      "South to Locked Exit\n",
      "\n",
      "\n",
      "\n",
      "\n",
      "You are in a disorderly, cramped room filled with rows of rough-hewn bunks. The\n",
      "air is thick with the odor of rum, sweat, and the remnants of cheap tobacco.\n",
      "Scraps of old maps, empty bottles, and tattered clothes litter the floor. It's a\n",
      "chaotic jumble of pirate life, replete with secrets and potential disguises.\n",
      "\n",
      "Exits:\n",
      "West to Main Deck\n",
      "\n",
      "You see:\n",
      " * pirate clothes\n",
      "        put on\n",
      "\n",
      "\n",
      "You disguised yourself with the clothes you found. You look just like a pirate\n",
      "now.\n",
      "\n",
      "You are on the main deck. The deck is a spacious, open area bathed in moonlight,\n",
      "offering a panoramic view of the endless sea. The salty sea breeze whispers\n",
      "through the sails, and the stars above provide a faint, serene light. The wooden\n",
      "floorboards groan underfoot, echoing the rhythmic waves. It's a gateway to all\n",
      "the ship's key areas.\n",
      "\n",
      "Exits:\n",
      "Down to Cargo Hold\n",
      "East to Pirates’ Quarters\n",
      "West to Captain’s Cabin\n",
      "North to Guarded Entrance\n",
      "South to Locked Exit\n",
      "\n",
      "\n",
      "\n",
      "\n",
      "You can see the main entrance of the ship, constantly guarded by stern-looking\n",
      "pirates. Torches on either side cast a flickering light, creating an\n",
      "intimidating barrier to freedom.\n",
      "\n",
      "Exits:\n",
      "South to Main Deck\n",
      "Out to Outside\n",
      "\n",
      "You see:\n",
      " * the main entrance\n",
      "        out\n",
      "\n",
      "\n",
      "You are outside the ship. The sea is calm, and the moonlight casts a serene glow\n",
      "over the water.\n",
      "\n",
      "Exits:\n",
      "In to Locked Exit\n",
      "\n",
      "\n",
      "\n",
      "\n",
      "You are free!\n"
     ]
    }
   ],
   "source": [
    "print(\"You are kidnapped by a group of pirates. Escape the ship!\\n\")\n",
    "\n",
    "game.game_loop()"
   ]
  }
 ],
 "metadata": {
  "kernelspec": {
   "display_name": "interfict",
   "language": "python",
   "name": "python3"
  },
  "language_info": {
   "codemirror_mode": {
    "name": "ipython",
    "version": 3
   },
   "file_extension": ".py",
   "mimetype": "text/x-python",
   "name": "python",
   "nbconvert_exporter": "python",
   "pygments_lexer": "ipython3",
   "version": "3.11.5"
  }
 },
 "nbformat": 4,
 "nbformat_minor": 2
}
